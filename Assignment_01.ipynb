{
 "cells": [
  {
   "cell_type": "markdown",
   "id": "31bc165b",
   "metadata": {},
   "source": [
    "1. Write a Python Program to accept the details of a student like name, roll number and mark and display it.\n",
    "   Sample input: Enter the name: Anisha\n",
    "   Enter the roll number: 21\n",
    "   Enter the mark: 78\n",
    "   Sample output:\n",
    "   Name: Anisha\n",
    "   Roll No: 21\n",
    "   Mark: 78"
   ]
  },
  {
   "cell_type": "code",
   "execution_count": 4,
   "id": "acfec0d5",
   "metadata": {},
   "outputs": [
    {
     "name": "stdout",
     "output_type": "stream",
     "text": [
      "Enter name:Susmin\n",
      "Enter roll number:26\n",
      "Enter mark:67\n",
      "Name:Susmin\n",
      "Roll No:26\n",
      "Mark:67\n"
     ]
    }
   ],
   "source": [
    "name = input(\"Enter name:\")\n",
    "rollno = input(\"Enter roll number:\")\n",
    "mark = input(\"Enter mark:\")\n",
    "print(\"Name:\" + name)\n",
    "print(\"Roll No:\" + rollno)\n",
    "print(\"Mark:\" + mark)"
   ]
  },
  {
   "cell_type": "markdown",
   "id": "7a5830da",
   "metadata": {},
   "source": [
    "2. Write a Python program to convert temperatures to and from Celsius Fahrenheit. \n",
    "   [Formula: c/5=f-32/9 where c=temperature in Celsius and f= temperature in Fahrenheit.] \n",
    "   Sample input: Temperature in Fahrenheit =41\n",
    "   Sample output: Temperature in Celsius =5"
   ]
  },
  {
   "cell_type": "code",
   "execution_count": 2,
   "id": "3721699c",
   "metadata": {},
   "outputs": [
    {
     "name": "stdout",
     "output_type": "stream",
     "text": [
      "Enter temperature:41\n",
      "Temperature in Celsius = 5.0\n",
      "Temperature in Fahrenheit = 41.0\n"
     ]
    }
   ],
   "source": [
    "def celsius_to_fahrenheit(celsius):\n",
    "    return (celsius * 9/5) + 32\n",
    "def fahrenheit_to_celsius(fahrenheit):\n",
    "    return (fahrenheit - 32) * 5/9\n",
    "temperature_fahrenheit = int(input(\"Enter temperature:\"))\n",
    "temperature_celsius = fahrenheit_to_celsius(temperature_fahrenheit)\n",
    "print(\"Temperature in Celsius =\", temperature_celsius)\n",
    "temperature_fahrenheit = celsius_to_fahrenheit(temperature_celsius)\n",
    "print(\"Temperature in Fahrenheit =\", temperature_fahrenheit)"
   ]
  },
  {
   "cell_type": "markdown",
   "id": "36cda0d9",
   "metadata": {},
   "source": [
    "3. Write a Python program to accept two numbers from the user and display its product. "
   ]
  },
  {
   "cell_type": "code",
   "execution_count": 8,
   "id": "3c357d7c",
   "metadata": {},
   "outputs": [
    {
     "name": "stdout",
     "output_type": "stream",
     "text": [
      "Enter first number:2\n",
      "Enter second number:3\n",
      "Product of two numbers is: 6\n"
     ]
    }
   ],
   "source": [
    "num1 = int(input(\"Enter first number:\"))\n",
    "num2 = int(input(\"Enter second number:\"))\n",
    "product = num1 * num2\n",
    "print(\"Product of two numbers is:\",product)"
   ]
  },
  {
   "cell_type": "markdown",
   "id": "ac5f9dbe",
   "metadata": {},
   "source": [
    "4. Write a Python program to accept a string “Learn Python by Developing aWebsite” and display the string like “Learn**Python**    by Developing a **Website**”."
   ]
  },
  {
   "cell_type": "code",
   "execution_count": 11,
   "id": "2802ef48",
   "metadata": {},
   "outputs": [
    {
     "name": "stdout",
     "output_type": "stream",
     "text": [
      "Learn **Python** from ICT Academy **Of** Kerala\n"
     ]
    }
   ],
   "source": [
    "string = \"Learn Python from ICT Academy Of Kerala\"\n",
    "split_str = string.split()\n",
    "split_str[1] = \"**\" + split_str[1] + \"**\"\n",
    "split_str[5] = \"**\" + split_str[5] + \"**\"\n",
    "newstr = \" \".join(split_str)\n",
    "print(newstr)"
   ]
  },
  {
   "cell_type": "markdown",
   "id": "04eb0719",
   "metadata": {},
   "source": [
    "5. Write a Python program to accept the radius of a circle and display its area."
   ]
  },
  {
   "cell_type": "code",
   "execution_count": 17,
   "id": "6ac9596b",
   "metadata": {},
   "outputs": [
    {
     "name": "stdout",
     "output_type": "stream",
     "text": [
      "Enter radius of the circle:2\n",
      "The area of the circle is: 12.566370614359172\n"
     ]
    }
   ],
   "source": [
    "import math\n",
    "radius = float(input(\"Enter radius of the circle:\"))\n",
    "area = math.pi * radius**2\n",
    "print(\"The area of the circle is:\",area)"
   ]
  },
  {
   "cell_type": "markdown",
   "id": "6ba09625",
   "metadata": {},
   "source": [
    "6. Python program to insert a number to any position in a list.Get the number to be inserted and position from the user."
   ]
  },
  {
   "cell_type": "code",
   "execution_count": 20,
   "id": "6b0c0c45",
   "metadata": {},
   "outputs": [
    {
     "name": "stdout",
     "output_type": "stream",
     "text": [
      "Enter the number to be inserted:6\n",
      "Enter the position in which number to be inserted:4\n",
      "List after insertion: [1, 2, 3, 4, 6, 5]\n"
     ]
    }
   ],
   "source": [
    "num = int(input(\"Enter the number to be inserted:\"))\n",
    "pos = int(input(\"Enter the position in which number to be inserted:\"))\n",
    "list = [1, 2, 3, 4, 5]\n",
    "list.insert(pos, num)\n",
    "print(\"List after insertion:\",list)"
   ]
  },
  {
   "cell_type": "markdown",
   "id": "dcf8d8f2",
   "metadata": {},
   "source": [
    "7. Write a program to rename a key city to a location in the following dictionary.\n",
    "   sample_dict = { \"name\": \"John\", \"age\":5, \"salary\": 8000, \"city\": \"New York\"}"
   ]
  },
  {
   "cell_type": "code",
   "execution_count": 24,
   "id": "1e9117ef",
   "metadata": {},
   "outputs": [
    {
     "name": "stdout",
     "output_type": "stream",
     "text": [
      "Dictionary after renaming is: {'name': 'Susmin', 'age': 23, 'salary': 10000, 'location': 'New York'}\n"
     ]
    }
   ],
   "source": [
    "dict = {\"name\": \"Susmin\", \"age\": 23, \"salary\": 10000, \"city\": \"New York\"}\n",
    "dict[\"location\"] = dict.pop(\"city\")\n",
    "print(\"Dictionary after renaming is:\",dict)"
   ]
  },
  {
   "cell_type": "markdown",
   "id": "57dbcc57",
   "metadata": {},
   "source": [
    "8. Write a Python program to change Brad’s salary to 8500 in the following dictionary.\n",
    "   sample_dict = {\n",
    "   'emp1': {'name': 'John', 'salary': 7500},\n",
    "   'emp2': {'name': 'Emma', 'salary': 8000},\n",
    "   'emp3': {'name': 'Brad', 'salary': 500}\n",
    "   }"
   ]
  },
  {
   "cell_type": "code",
   "execution_count": 25,
   "id": "cdb30e1b",
   "metadata": {},
   "outputs": [
    {
     "name": "stdout",
     "output_type": "stream",
     "text": [
      "Dictionary after changing Brad's slaray is: {'emp1': {'name': 'John', 'salary': 7500}, 'emp2': {'name': 'Emma', 'salary': 8000}, 'emp3': {'name': 'Brad', 'salary': 8500}}\n"
     ]
    }
   ],
   "source": [
    "dict = {'emp1': {'name': 'John', 'salary': 7500},'emp2': {'name': 'Emma', 'salary': 8000},\n",
    "        'emp3': {'name': 'Brad', 'salary': 500}}\n",
    "dict['emp3']['salary'] = 8500\n",
    "print(\"Dictionary after changing Brad's slaray is:\",dict)"
   ]
  },
  {
   "cell_type": "markdown",
   "id": "4ecb07c5",
   "metadata": {},
   "source": [
    "9. Write a program to copy elements 43 and 54 from the following tuple into a new tuple. Given:\n",
    "   tuple1 = (10, 20, 43, 54, 56, 68)"
   ]
  },
  {
   "cell_type": "code",
   "execution_count": 27,
   "id": "b4197162",
   "metadata": {},
   "outputs": [
    {
     "name": "stdout",
     "output_type": "stream",
     "text": [
      "New tuple after copying is: (43, 54)\n"
     ]
    }
   ],
   "source": [
    "tuple1 = [10, 20, 43, 54, 56, 68]\n",
    "newtuple = (tuple1[2], tuple1[3])\n",
    "print(\"New tuple after copying is:\",newtuple)"
   ]
  },
  {
   "cell_type": "markdown",
   "id": "3196b2be",
   "metadata": {},
   "source": [
    "10. Counts the number of occurrences of item 50 from a tuple.\n",
    "    tuple1 = (50, 10, 60, 70, 50,83,567,50,81)"
   ]
  },
  {
   "cell_type": "code",
   "execution_count": 29,
   "id": "5afade3e",
   "metadata": {},
   "outputs": [
    {
     "name": "stdout",
     "output_type": "stream",
     "text": [
      "The number of occurrences of item 50 in the tuple is: 5\n"
     ]
    }
   ],
   "source": [
    "tuple1 = [50, 10, 60, 70, 50, 83, 567, 50, 81, 50, 100, 50]\n",
    "count = tuple1.count(50)\n",
    "print(\"The number of occurrences of item 50 in the tuple is:\", count)"
   ]
  }
 ],
 "metadata": {
  "kernelspec": {
   "display_name": "Python 3 (ipykernel)",
   "language": "python",
   "name": "python3"
  },
  "language_info": {
   "codemirror_mode": {
    "name": "ipython",
    "version": 3
   },
   "file_extension": ".py",
   "mimetype": "text/x-python",
   "name": "python",
   "nbconvert_exporter": "python",
   "pygments_lexer": "ipython3",
   "version": "3.9.13"
  }
 },
 "nbformat": 4,
 "nbformat_minor": 5
}
