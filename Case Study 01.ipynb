{
 "cells": [
  {
   "cell_type": "markdown",
   "id": "fa76229b",
   "metadata": {},
   "source": [
    "1. A school has following rules for grading system:\n",
    "a. Below 25 - F\n",
    "b. 25 to 45 - E\n",
    "c. 45 to 50 - D\n",
    "d. 50 to 60 - C\n",
    "e. 60 to 80 - B\n",
    "f. Above 80 - A\n",
    "Ask user to enter marks and print the corresponding grade."
   ]
  },
  {
   "cell_type": "code",
   "execution_count": 1,
   "id": "8bc73378",
   "metadata": {},
   "outputs": [
    {
     "name": "stdout",
     "output_type": "stream",
     "text": [
      "Enter marks: 45\n",
      "Grade D\n"
     ]
    }
   ],
   "source": [
    "marks = int(input(\"Enter marks: \"))\n",
    "if marks<25:\n",
    "    print('Grade F')\n",
    "elif marks>=25 and marks<45:\n",
    "    print('Grade E')\n",
    "elif marks>=45 and marks<50:\n",
    "    print('Grade D')\n",
    "elif marks>=50 and marks<60:\n",
    "    print('Grade C')\n",
    "elif marks>=60 and marks<80:\n",
    "    print('Grade B')\n",
    "else:\n",
    "    print('Grade A')"
   ]
  },
  {
   "cell_type": "markdown",
   "id": "d464d09e",
   "metadata": {},
   "source": [
    "2. You have a list of names. Create a new list which contains only the names\n",
    "   with non-repeating characters.\n",
    "Sample input = [‘John’,’Peter’,’Meera’,’Mini’,’Krishna’]\n",
    "Sample output = [‘John’,Krishna]"
   ]
  },
  {
   "cell_type": "code",
   "execution_count": 2,
   "id": "c483f92f",
   "metadata": {},
   "outputs": [
    {
     "name": "stdout",
     "output_type": "stream",
     "text": [
      "['John', 'Krishna']\n"
     ]
    }
   ],
   "source": [
    "names = ['John', 'Peter', 'Meera', 'Mini', 'Krishna']\n",
    "nr_names = []\n",
    "for name in names:\n",
    "    if len(name) == len(set(name)):\n",
    "        nr_names.append(name)\n",
    "print(nr_names)"
   ]
  },
  {
   "cell_type": "markdown",
   "id": "fa00faca",
   "metadata": {},
   "source": [
    "3. Take values of length and breadth of a rectangle from user and check if it\n",
    "   is square or not."
   ]
  },
  {
   "cell_type": "code",
   "execution_count": 7,
   "id": "8bcf4812",
   "metadata": {},
   "outputs": [
    {
     "name": "stdout",
     "output_type": "stream",
     "text": [
      "Enter length:5\n",
      "Enter breadth:7\n",
      "It's not a Square\n"
     ]
    }
   ],
   "source": [
    "length = float(input(\"Enter length:\"))\n",
    "breadth = float(input(\"Enter breadth:\"))\n",
    "if length == breadth:\n",
    "    print(\"It's a Square\")\n",
    "else:\n",
    "    print(\"It's not a Square\")"
   ]
  },
  {
   "cell_type": "code",
   "execution_count": 8,
   "id": "8759894b",
   "metadata": {},
   "outputs": [
    {
     "name": "stdout",
     "output_type": "stream",
     "text": [
      "Enter length:4\n",
      "Enter breadth:4\n",
      "It's a Square\n"
     ]
    }
   ],
   "source": [
    "length = float(input(\"Enter length:\"))\n",
    "breadth = float(input(\"Enter breadth:\"))\n",
    "if length == breadth:\n",
    "    print(\"It's a Square\")\n",
    "else:\n",
    "    print(\"It's not a Square\")"
   ]
  },
  {
   "cell_type": "markdown",
   "id": "34e9f85d",
   "metadata": {},
   "source": [
    " 4. A student will not be allowed to sit in exam if his/her attendance is less\n",
    "    than 75%. Take following input from user Number of classes held Number of       classes attended. And print percentage of class attended Is student is         allowed to sit in exam or not."
   ]
  },
  {
   "cell_type": "code",
   "execution_count": 2,
   "id": "bfe656ba",
   "metadata": {},
   "outputs": [
    {
     "name": "stdout",
     "output_type": "stream",
     "text": [
      "Number of classes held:100\n",
      "Number of classes attended:78\n",
      "You are allowed to sit int exam\n"
     ]
    }
   ],
   "source": [
    "classes_held = int(input(\"Number of classes held:\"))\n",
    "classes_attended = int(input(\"Number of classes attended:\"))\n",
    "attendence = classes_attended/classes_held*100\n",
    "if attendence < 75:\n",
    "    print(\"You are not allowed to sit in the exam\")\n",
    "else:\n",
    "        print(\"You are allowed to sit int exam\")"
   ]
  },
  {
   "cell_type": "markdown",
   "id": "b76dc499",
   "metadata": {},
   "source": [
    " 5. Create a list by taking length of the list and elements of the list from       user.\n",
    "    Then find the sum of the elements of the list. Also create a new called         even list which contains only even numbers from first list and odd list         which contains odd numbers from the list.\n",
    "    Sample input:\n",
    "    Length of the list = 5\n",
    "    List1 = [2,6,3,1,5]\n",
    "    Sum = 17\n",
    "    Even_list=[2,6]\n",
    "    Odd_list=[3,1,5]"
   ]
  },
  {
   "cell_type": "code",
   "execution_count": 6,
   "id": "cf084fe0",
   "metadata": {},
   "outputs": [
    {
     "name": "stdout",
     "output_type": "stream",
     "text": [
      "Enter length of the list: 5\n",
      "Enter elements:2\n",
      "Enter elements:3\n",
      "Enter elements:5\n",
      "Enter elements:1\n",
      "Enter elements:6\n",
      "Sum: 17\n",
      "Even_list: [2, 6]\n",
      "Odd_list: [3, 5, 1]\n"
     ]
    }
   ],
   "source": [
    "length = int(input(\"Enter length of the list: \"))\n",
    "list1 = []\n",
    "for i in range(length):\n",
    "    ele = int(input(\"Enter elements:\"))\n",
    "    list1.append(ele)\n",
    "s = 0\n",
    "even_list = []\n",
    "odd_list = []\n",
    "for num in list1:\n",
    "    s = s+num\n",
    "    if num % 2 == 0:\n",
    "        even_list.append(num)\n",
    "    else:\n",
    "        odd_list.append(num)\n",
    "print(\"Sum:\", s)\n",
    "print(\"Even_list:\", even_list)\n",
    "print(\"Odd_list:\", odd_list)"
   ]
  },
  {
   "cell_type": "markdown",
   "id": "2652fbd7",
   "metadata": {},
   "source": [
    " 6. Create a sample chatbot for an ecommerce website."
   ]
  },
  {
   "cell_type": "code",
   "execution_count": 9,
   "id": "948822aa",
   "metadata": {},
   "outputs": [
    {
     "name": "stdout",
     "output_type": "stream",
     "text": [
      "Hai... Welcome\n",
      "Enter to quit:size\n",
      "Yes we have the collection of shirts with size\n"
     ]
    }
   ],
   "source": [
    "print('Hai... Welcome')\n",
    "while True:\n",
    "    x = input('Enter to quit:')\n",
    "    x = x.lower()\n",
    "    if x == 'quit':\n",
    "        print('Will see you later')\n",
    "    break\n",
    "y = x.split()\n",
    "if len(y) == 0:\n",
    "    print('Please write anything')\n",
    "elif 'Good Morning!!!' in y:\n",
    "    print('Good Morning!!!')\n",
    "elif 'shirt' in y:\n",
    "    print('Please go through the site')\n",
    "elif 'size' in y:\n",
    "    print('Yes we have the collection of shirts with size')\n",
    "else:\n",
    "    print('Please select another option')"
   ]
  },
  {
   "cell_type": "markdown",
   "id": "a76b551c",
   "metadata": {},
   "source": [
    "7. Write a program to find the roots of a quadratic equation.Get the              coefficients of quadratic equation ax^2+bx+c and display whether\n",
    "   the roots are real and equal or real and distinct or roots are imaginary.      You have to find the roots and display it as well. "
   ]
  },
  {
   "cell_type": "code",
   "execution_count": 14,
   "id": "247fb4b0",
   "metadata": {},
   "outputs": [
    {
     "name": "stdout",
     "output_type": "stream",
     "text": [
      "Enter the coefficient of x^2:2\n",
      "Enter the coefficient of x:3\n",
      "Enter the constant:4\n",
      "The roots are imaginary. x1 = -0.75 + 1.1989578808281798i, x2 = -0.75 - 1.1989578808281798i\n"
     ]
    }
   ],
   "source": [
    "import math\n",
    "def quadratic_roots(a, b, c):\n",
    "    discriminant = b**2 - 4*a*c\n",
    "    if discriminant == 0:\n",
    "        x1 = -b / (2*a)\n",
    "        return f\"The roots are real and equal. x1 = x2 = {x1}\"\n",
    "    elif discriminant > 0:\n",
    "        x1 = (-b + math.sqrt(discriminant)) / (2*a)\n",
    "        x2 = (-b - math.sqrt(discriminant)) / (2*a)\n",
    "        return f\"The roots are real and distinct. x1 = {x1}, x2 = {x2}\"\n",
    "    else:\n",
    "        real_part = -b / (2*a)\n",
    "        imaginary_part = math.sqrt(-discriminant) / (2*a)\n",
    "        return f\"The roots are imaginary. x1 = {real_part} + {imaginary_part}i, x2 = {real_part} - {imaginary_part}i\"\n",
    "\n",
    "a = float(input(\"Enter the coefficient of x^2:\"))\n",
    "b = float(input(\"Enter the coefficient of x:\"))\n",
    "c = float(input(\"Enter the constant:\"))\n",
    "roots = quadratic_roots(a, b, c)\n",
    "\n",
    "print(roots)"
   ]
  },
  {
   "cell_type": "markdown",
   "id": "aefa63dc",
   "metadata": {},
   "source": [
    "8. Given a range of first 10 numbers, write a Python program to iterate from\n",
    "   start number to the end number and print the sum of the current number\n",
    "   and previous number.\n",
    "   Sample input: 1….10\n",
    "   Sample output: Current Number 1 Previous Number 0 Sum: 1\n",
    "   Current Number 2 Previous Number 1 Sum: 3\n",
    "   Current Number 3 Previous Number 2 Sum: 5…\n",
    "   …….\n",
    "   Current Number 10 Previous Number 9 Sum: 19\n"
   ]
  },
  {
   "cell_type": "code",
   "execution_count": 13,
   "id": "b4fd49dc",
   "metadata": {},
   "outputs": [
    {
     "name": "stdout",
     "output_type": "stream",
     "text": [
      "Enter start number:1\n",
      "Enter end number:10\n",
      "Current number 1 Previous number 0 Sum: 1\n",
      "Current number 2 Previous number 1 Sum: 3\n",
      "Current number 3 Previous number 2 Sum: 6\n",
      "Current number 4 Previous number 3 Sum: 10\n",
      "Current number 5 Previous number 4 Sum: 15\n",
      "Current number 6 Previous number 5 Sum: 21\n",
      "Current number 7 Previous number 6 Sum: 28\n",
      "Current number 8 Previous number 7 Sum: 36\n",
      "Current number 9 Previous number 8 Sum: 45\n"
     ]
    }
   ],
   "source": [
    "start_num = int(input(\"Enter start number:\"))\n",
    "end_num = int(input(\"Enter end number:\"))\n",
    "s = 0\n",
    "for num in range(start_num , end_num):\n",
    "    s = s + num\n",
    "    print(\"Current number\", num, \"Previous number\", num-1, \"Sum:\", s)\n"
   ]
  },
  {
   "cell_type": "markdown",
   "id": "83f55b1b",
   "metadata": {},
   "source": [
    "9. Write a Python program to find the prime numbers in a given range. Get\n",
    "   the range from user and print prime numbers in that range."
   ]
  },
  {
   "cell_type": "code",
   "execution_count": 11,
   "id": "aae46c61",
   "metadata": {},
   "outputs": [
    {
     "name": "stdout",
     "output_type": "stream",
     "text": [
      "Enter start range value:2\n",
      "Enter end range value:11\n",
      "The list of prime numbers in the range are:\n",
      "2\n",
      "3\n",
      "5\n",
      "7\n",
      "11\n"
     ]
    }
   ],
   "source": [
    "start_range = int(input(\"Enter start range value:\"))\n",
    "end_range = int(input(\"Enter end range value:\"))\n",
    "print (\"The list of prime numbers in the range are:\")  \n",
    "for num in range (start_range, end_range + 1):  \n",
    "    if num > 1:  \n",
    "        for i in range (2, num):  \n",
    "            if(num % i == 0):  \n",
    "                break  \n",
    "        else:  \n",
    "            print(num)"
   ]
  },
  {
   "cell_type": "markdown",
   "id": "cef326ff",
   "metadata": {},
   "source": [
    "10. Write a Python program to print Fibonacci series in a given range. Get\n",
    "    the range from user and print fibonacci numbers in that range."
   ]
  },
  {
   "cell_type": "code",
   "execution_count": 12,
   "id": "88c57671",
   "metadata": {},
   "outputs": [
    {
     "name": "stdout",
     "output_type": "stream",
     "text": [
      "Enter range:5\n",
      "The fibonacci sequence of the numbers is:\n",
      "0\n",
      "1\n",
      "1\n",
      "2\n",
      "3\n"
     ]
    }
   ],
   "source": [
    "f_range = int(input (\"Enter range:\"))  \n",
    "num1 = 0  \n",
    "num2 = 1  \n",
    "count = 0  \n",
    "if f_range == 1:  \n",
    "    print(num1)  \n",
    "else:  \n",
    "    print (\"The fibonacci sequence of the numbers is:\")  \n",
    "    while count < f_range:  \n",
    "        print(num1)  \n",
    "        nth = num1 + num2  \n",
    "        num1 = num2  \n",
    "        num2 = nth  \n",
    "        count += 1"
   ]
  }
 ],
 "metadata": {
  "kernelspec": {
   "display_name": "Python 3 (ipykernel)",
   "language": "python",
   "name": "python3"
  },
  "language_info": {
   "codemirror_mode": {
    "name": "ipython",
    "version": 3
   },
   "file_extension": ".py",
   "mimetype": "text/x-python",
   "name": "python",
   "nbconvert_exporter": "python",
   "pygments_lexer": "ipython3",
   "version": "3.9.13"
  }
 },
 "nbformat": 4,
 "nbformat_minor": 5
}
