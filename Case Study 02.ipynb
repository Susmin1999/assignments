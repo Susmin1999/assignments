{
 "cells": [
  {
   "cell_type": "markdown",
   "id": "625c3469",
   "metadata": {},
   "source": [
    "1. Write a Python function to sum all the numbers in a list. (Create a list and get list elements from user)"
   ]
  },
  {
   "cell_type": "code",
   "execution_count": 15,
   "id": "0fe59f18",
   "metadata": {},
   "outputs": [
    {
     "name": "stdout",
     "output_type": "stream",
     "text": [
      "Enter the number of elements in the list: 5\n",
      "Enter a number: 1\n",
      "Enter a number: 2\n",
      "Enter a number: 3\n",
      "Enter a number: 4\n",
      "Enter a number: 5\n",
      "Sum of list elements: 15\n"
     ]
    }
   ],
   "source": [
    "def sum_list_numbers():\n",
    "    num_list = []\n",
    "    n = int(input(\"Enter the number of elements in the list: \"))\n",
    "    for i in range(n):\n",
    "        num = int(input(\"Enter a number: \"))\n",
    "        num_list.append(num)\n",
    "    list_sum = sum(num_list)\n",
    "    return list_sum\n",
    "print(\"Sum of list elements:\",sum_list_numbers())"
   ]
  },
  {
   "cell_type": "markdown",
   "id": "f1a651b2",
   "metadata": {},
   "source": [
    "2. Write a Python function that checks whether a passed string is palindrome or not."
   ]
  },
  {
   "cell_type": "code",
   "execution_count": 26,
   "id": "fca7ecfc",
   "metadata": {},
   "outputs": [
    {
     "name": "stdout",
     "output_type": "stream",
     "text": [
      "Enter string:malayalam\n",
      "String is palindrome\n"
     ]
    }
   ],
   "source": [
    "def is_palindrome(string): \n",
    "    string=input(\"Enter string:\")\n",
    "    if(string==string[::-1]):\n",
    "        print(\"String is palindrome\")\n",
    "    else:\n",
    "        print(\"String is not palindrome\")\n",
    "is_palindrome(string)"
   ]
  },
  {
   "cell_type": "markdown",
   "id": "07e7fc97",
   "metadata": {},
   "source": [
    "3. Write a Python recursive function to find the Fibonacci series. Get the limit from the user. "
   ]
  },
  {
   "cell_type": "code",
   "execution_count": 21,
   "id": "8ab2c76e",
   "metadata": {},
   "outputs": [
    {
     "name": "stdout",
     "output_type": "stream",
     "text": [
      "Enter the limit: 5\n",
      "Fibonacci sequence is: \n",
      "0\n",
      "1\n",
      "1\n",
      "2\n",
      "3\n"
     ]
    }
   ],
   "source": [
    "def fibonacci(num):\n",
    "    if(num <= 1):\n",
    "        return num\n",
    "    else:\n",
    "        return(fibonacci(num-1) + fibonacci(num-2))\n",
    "num = int(input(\"Enter the limit: \"))\n",
    "print(\"Fibonacci sequence is: \")\n",
    "for i in range(num):\n",
    "    print(fibonacci(i))"
   ]
  },
  {
   "cell_type": "markdown",
   "id": "de7b32be",
   "metadata": {},
   "source": [
    "4. Write a Python recursive function to print the multiplication table of given number."
   ]
  },
  {
   "cell_type": "code",
   "execution_count": 25,
   "id": "4597d06e",
   "metadata": {},
   "outputs": [
    {
     "name": "stdout",
     "output_type": "stream",
     "text": [
      "10 x 0 = 0\n",
      "10 x 1 = 10\n",
      "10 x 2 = 20\n",
      "10 x 3 = 30\n",
      "10 x 4 = 40\n",
      "10 x 5 = 50\n",
      "10 x 6 = 60\n",
      "10 x 7 = 70\n",
      "10 x 8 = 80\n",
      "10 x 9 = 90\n",
      "10 x 10 = 100\n"
     ]
    }
   ],
   "source": [
    "def multi_tbl(num, i=0):\n",
    "    if i > 10:\n",
    "        return\n",
    "    print(f\"{num} x {i} = {num * i}\")\n",
    "    multi_tbl(num, i+1)\n",
    "multi_tbl(10)"
   ]
  },
  {
   "cell_type": "markdown",
   "id": "46c4b2f7",
   "metadata": {},
   "source": [
    "5. Define a function which counts vowels and consonant in a word."
   ]
  },
  {
   "cell_type": "code",
   "execution_count": 27,
   "id": "37ea694f",
   "metadata": {},
   "outputs": [
    {
     "name": "stdout",
     "output_type": "stream",
     "text": [
      "Enter a String : hello how are you!\n",
      "Vowels:  7 Consonants:  7\n"
     ]
    }
   ],
   "source": [
    "string = input(\"Enter a String : \")   \n",
    "vowels = 0  \n",
    "consonants = 0 \n",
    "for i in string:   \n",
    "        if i in ('a', 'e', 'i', 'o', 'u','A', 'E', 'I', 'O', 'U'): \n",
    "            vowels+=1 \n",
    "        elif i.isalpha():  \n",
    "            consonants+=1  \n",
    "print(\"Vowels: \",vowels, \"Consonants: \",consonants)"
   ]
  },
  {
   "cell_type": "markdown",
   "id": "f13b06bb",
   "metadata": {},
   "source": [
    "6. Define a function that accepts lowercase words and returns uppercase words."
   ]
  },
  {
   "cell_type": "code",
   "execution_count": 28,
   "id": "8045ed0d",
   "metadata": {},
   "outputs": [
    {
     "name": "stdout",
     "output_type": "stream",
     "text": [
      "Enter string: hello, good morning\n",
      "HELLO, GOOD MORNING\n"
     ]
    }
   ],
   "source": [
    "def uppercase(word):\n",
    "    return word.upper()\n",
    "lower_word = input(\"Enter string: \")\n",
    "upper_word = uppercase(lower_word)\n",
    "print(upper_word)"
   ]
  },
  {
   "cell_type": "markdown",
   "id": "61a51e1c",
   "metadata": {},
   "source": [
    "7. Write a Python program to remove ‘None’ values from a given list using the lambda function.\n",
    "   Given input = [12, 0, None, 23, None, -55, 234, 89, None, 0, 6, -12]\n",
    "   Expected output = [12, 0, 23, -55, 234, 89, 0, 6, -12]"
   ]
  },
  {
   "cell_type": "code",
   "execution_count": 29,
   "id": "083f96cd",
   "metadata": {},
   "outputs": [
    {
     "name": "stdout",
     "output_type": "stream",
     "text": [
      "Enter list elements: 1,10,None,80,None,100,95,None,20\n",
      "Removed list: [1, 10, 80, 100, 95, 20]\n"
     ]
    }
   ],
   "source": [
    "list1=input(\"Enter list elements: \")\n",
    "elements = [int(num) if num != 'None' else None for num in list1.split(',')]\n",
    "removed_list = list(filter(lambda num: num is not None, elements))\n",
    "print(\"Removed list:\", removed_list)"
   ]
  },
  {
   "cell_type": "markdown",
   "id": "01072300",
   "metadata": {},
   "source": [
    "8. Write a Rectangle class in Python language, allowing you to build a rectangle with length and width attributes.\n",
    "   a. Create a Perimeter() method to calculate the perimeter of the rectangle and a Area() method to calculate the area of the       rectangle.\n",
    "   b. Create a method display() that display the length, width, perimeter and area of an object created using an instantiation       on rectangle class.\n",
    "   c. Create a Parallelepiped child class inheriting from the Rectangle class and with a height attribute and another Volume()       method to calculate the volume of the Parallelepiped.\n"
   ]
  },
  {
   "cell_type": "code",
   "execution_count": 46,
   "id": "f2ff9e9d",
   "metadata": {},
   "outputs": [
    {
     "name": "stdout",
     "output_type": "stream",
     "text": [
      "Length of rectangle is: 2\n",
      "Width of rectangle is: 4\n",
      "Perimeter of rectangle is: 12\n",
      "Area of rectangle is: 8\n",
      "Volume of Parallelepiped is:  48\n"
     ]
    }
   ],
   "source": [
    "class Rectangle:\n",
    "    def __init__(self, length, breadth):\n",
    "        self.length = length\n",
    "        self.breadth = breadth\n",
    "\n",
    "    def Perimeter(self):\n",
    "        return 2 * (self.length+self.breadth)\n",
    "\n",
    "    def Area(self):\n",
    "        return self.length*self.breadth\n",
    "\n",
    "    def display(self):\n",
    "        print(\"Length of rectangle is:\", self.length)\n",
    "        print(\"Width of rectangle is:\", self.breadth)\n",
    "        print(\"Perimeter of rectangle is:\", self.Perimeter())\n",
    "        print(\"Area of rectangle is:\", self.Area())\n",
    "\n",
    "class Parallelepiped(Rectangle):\n",
    "    def __init__(self, length, breadth, height):\n",
    "        super().__init__(length, breadth)\n",
    "        self.height = height\n",
    "\n",
    "    def Volume(self):\n",
    "        return self.length*self.breadth*self.height\n",
    "\n",
    "\n",
    "myRectangle = Rectangle(2,4)\n",
    "myRectangle.display()\n",
    "myParallelepiped = Parallelepiped(2,4,6)\n",
    "print(\"Volume of Parallelepiped is: \" , myParallelepiped.Volume())"
   ]
  },
  {
   "cell_type": "markdown",
   "id": "23ffe226",
   "metadata": {},
   "source": [
    "9. Create a Python class called BankAccount which represents a bank account, having as attributes: accountNumber (numeric  \n",
    "   type), name (name of the account owner as string type), balance.\n",
    "   a. Create a constructor with parameters: accountNumber, name, balance.\n",
    "   b. Create a Deposit() method which manages the deposit actions.\n",
    "   c. Create a Withdrawal() method which manages withdrawals actions.\n",
    "   d. Create an bankFees() method to apply the bank fees with a percentage of 5% of the balance account. \n",
    "   e. Create a display() method to display account details.\n",
    "   f. Give the complete code for the BankAccount class."
   ]
  },
  {
   "cell_type": "code",
   "execution_count": 42,
   "id": "8ab643c4",
   "metadata": {},
   "outputs": [
    {
     "name": "stdout",
     "output_type": "stream",
     "text": [
      "Account Number: 2100278\n",
      "Name: Sam\n",
      "Balance: 36100.0\n"
     ]
    }
   ],
   "source": [
    "class BankAccount:\n",
    "    def __init__(self, accountno, name, balance):\n",
    "        self.accountno = accountno\n",
    "        self.name = name\n",
    "        self.balance = balance   \n",
    "    def Deposit(self, amount):\n",
    "        self.balance += amount    \n",
    "    def Withdrawal(self, amount):\n",
    "        if amount > self.balance:\n",
    "            print(\"Insufficient balance.\")\n",
    "        else:\n",
    "            self.balance -= amount   \n",
    "    def bankFees(self):\n",
    "        self.balance -= self.balance * 0.05   \n",
    "    def display(self):\n",
    "        print(\"Account Number:\", self.accountno)\n",
    "        print(\"Name:\", self.name)\n",
    "        print(\"Balance:\", self.balance)\n",
    "myBankAccount = BankAccount(2100278,'Sam',20000)\n",
    "myBankAccount.Deposit(20000)\n",
    "myBankAccount.Withdrawal(2000)\n",
    "myBankAccount.bankFees()\n",
    "myBankAccount.display()"
   ]
  },
  {
   "cell_type": "markdown",
   "id": "c65578f1",
   "metadata": {},
   "source": [
    "10. Create a base class rectangle with attributes length and breadth, methods area and perimeter.\n",
    "    a. Save the rectangle class as a python file rectangle.py file.\n",
    "    b. Open another python script and import the rectangle.py file.\n",
    "    c. In the newly created script derive a child class called Parallelepiped class inheriting from the Rectangle class and            with a height attribute and another Volume() method to calculate the volume of the Parallelepiped.\n",
    "    d. Now create objects for parent class and child class in newly created script and access methods of parent class and child        class."
   ]
  },
  {
   "cell_type": "code",
   "execution_count": 51,
   "id": "829aa7b3",
   "metadata": {},
   "outputs": [
    {
     "name": "stdout",
     "output_type": "stream",
     "text": [
      "Area of Rectangle is: 100\n",
      "Perimeter of Rectangle is: 40\n",
      "Volume of Parallelepiped is: 1000\n"
     ]
    }
   ],
   "source": [
    "class Rectangle:\n",
    "    def __init__(self, length, breadth):\n",
    "        self.length = length\n",
    "        self.breadth = breadth  \n",
    "    def area(self):\n",
    "        return self.length * self.breadth  \n",
    "    def perimeter(self):\n",
    "        return 2 * (self.length + self.breadth)\n",
    "class Parallelepiped(Rectangle):\n",
    "    def __init__(self, length, breadth, height):\n",
    "        super().__init__(length, breadth)\n",
    "        self.height = height       \n",
    "    def volume(self):\n",
    "        return self.length * self.breadth * self.height\n",
    "rect = Rectangle(10, 10)\n",
    "print(\"Area of Rectangle is:\", rect.area())\n",
    "print(\"Perimeter of Rectangle is:\", rect.perimeter())\n",
    "\n",
    "parameters = Parallelepiped(10, 10, 10)\n",
    "print(\"Volume of Parallelepiped is:\", parameters.volume())"
   ]
  }
 ],
 "metadata": {
  "kernelspec": {
   "display_name": "Python 3 (ipykernel)",
   "language": "python",
   "name": "python3"
  },
  "language_info": {
   "codemirror_mode": {
    "name": "ipython",
    "version": 3
   },
   "file_extension": ".py",
   "mimetype": "text/x-python",
   "name": "python",
   "nbconvert_exporter": "python",
   "pygments_lexer": "ipython3",
   "version": "3.9.13"
  }
 },
 "nbformat": 4,
 "nbformat_minor": 5
}
